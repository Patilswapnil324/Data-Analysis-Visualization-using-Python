{
 "cells": [
  {
   "cell_type": "markdown",
   "id": "d838b22c",
   "metadata": {},
   "source": [
    "# Flight Data Analysis & Visualization"
   ]
  },
  {
   "cell_type": "code",
   "execution_count": 1,
   "id": "34261974",
   "metadata": {},
   "outputs": [],
   "source": [
    "import pandas as pd\n",
    "import numpy as np\n",
    "import matplotlib.pyplot as plt\n",
    "import seaborn as sns"
   ]
  },
  {
   "cell_type": "code",
   "execution_count": 2,
   "id": "e61c79ad",
   "metadata": {},
   "outputs": [],
   "source": [
    "df1=pd.read_csv('Clean_Dataset.csv')"
   ]
  },
  {
   "cell_type": "code",
   "execution_count": 3,
   "id": "5740328c",
   "metadata": {},
   "outputs": [
    {
     "name": "stdout",
     "output_type": "stream",
     "text": [
      "<class 'pandas.core.frame.DataFrame'>\n",
      "RangeIndex: 300153 entries, 0 to 300152\n",
      "Data columns (total 12 columns):\n",
      " #   Column            Non-Null Count   Dtype  \n",
      "---  ------            --------------   -----  \n",
      " 0   Unnamed: 0        300153 non-null  int64  \n",
      " 1   airline           300153 non-null  object \n",
      " 2   flight            300153 non-null  object \n",
      " 3   source_city       300153 non-null  object \n",
      " 4   departure_time    300153 non-null  object \n",
      " 5   stops             300153 non-null  object \n",
      " 6   arrival_time      300153 non-null  object \n",
      " 7   destination_city  300153 non-null  object \n",
      " 8   class             300153 non-null  object \n",
      " 9   duration          300153 non-null  float64\n",
      " 10  days_left         300153 non-null  int64  \n",
      " 11  price             300153 non-null  int64  \n",
      "dtypes: float64(1), int64(3), object(8)\n",
      "memory usage: 27.5+ MB\n"
     ]
    }
   ],
   "source": [
    "df1.info()"
   ]
  },
  {
   "cell_type": "code",
   "execution_count": 4,
   "id": "a4524762",
   "metadata": {},
   "outputs": [
    {
     "data": {
      "text/plain": [
       "(300153, 12)"
      ]
     },
     "execution_count": 4,
     "metadata": {},
     "output_type": "execute_result"
    }
   ],
   "source": [
    "df1.shape"
   ]
  },
  {
   "cell_type": "code",
   "execution_count": 5,
   "id": "c6a3350b",
   "metadata": {},
   "outputs": [],
   "source": [
    "#remove the first column which is just a index no\n",
    "df1=df1.drop(['Unnamed: 0'],axis=1)"
   ]
  },
  {
   "cell_type": "code",
   "execution_count": 6,
   "id": "9610aa6f",
   "metadata": {},
   "outputs": [
    {
     "data": {
      "text/plain": [
       "array(['SpiceJet', 'AirAsia', 'Vistara', 'GO_FIRST', 'Indigo',\n",
       "       'Air_India'], dtype=object)"
      ]
     },
     "execution_count": 6,
     "metadata": {},
     "output_type": "execute_result"
    }
   ],
   "source": [
    "#now chcek for unique values for category column\n",
    "df1['airline'].unique()\n",
    "\n"
   ]
  },
  {
   "cell_type": "code",
   "execution_count": 7,
   "id": "1cdd72fe",
   "metadata": {},
   "outputs": [
    {
     "data": {
      "text/plain": [
       "array(['Delhi', 'Mumbai', 'Bangalore', 'Kolkata', 'Hyderabad', 'Chennai'],\n",
       "      dtype=object)"
      ]
     },
     "execution_count": 7,
     "metadata": {},
     "output_type": "execute_result"
    }
   ],
   "source": [
    "df1['source_city'].unique()"
   ]
  },
  {
   "cell_type": "code",
   "execution_count": 8,
   "id": "ed7b9df2",
   "metadata": {},
   "outputs": [
    {
     "data": {
      "text/plain": [
       "array(['Economy', 'Business'], dtype=object)"
      ]
     },
     "execution_count": 8,
     "metadata": {},
     "output_type": "execute_result"
    }
   ],
   "source": [
    "df1['destination_city'].unique()\n",
    "df1['class'].unique()"
   ]
  },
  {
   "cell_type": "code",
   "execution_count": 14,
   "id": "bce6d561",
   "metadata": {},
   "outputs": [],
   "source": [
    "#now make a new column of to & fro\n",
    "df1['journey']=df1['source_city'] +':'+df1['destination_city']"
   ]
  },
  {
   "cell_type": "code",
   "execution_count": 15,
   "id": "f9b3ead7",
   "metadata": {},
   "outputs": [
    {
     "data": {
      "text/html": [
       "<div>\n",
       "<style scoped>\n",
       "    .dataframe tbody tr th:only-of-type {\n",
       "        vertical-align: middle;\n",
       "    }\n",
       "\n",
       "    .dataframe tbody tr th {\n",
       "        vertical-align: top;\n",
       "    }\n",
       "\n",
       "    .dataframe thead th {\n",
       "        text-align: right;\n",
       "    }\n",
       "</style>\n",
       "<table border=\"1\" class=\"dataframe\">\n",
       "  <thead>\n",
       "    <tr style=\"text-align: right;\">\n",
       "      <th></th>\n",
       "      <th>airline</th>\n",
       "      <th>flight</th>\n",
       "      <th>source_city</th>\n",
       "      <th>departure_time</th>\n",
       "      <th>stops</th>\n",
       "      <th>arrival_time</th>\n",
       "      <th>destination_city</th>\n",
       "      <th>class</th>\n",
       "      <th>duration</th>\n",
       "      <th>days_left</th>\n",
       "      <th>price</th>\n",
       "      <th>journey</th>\n",
       "    </tr>\n",
       "  </thead>\n",
       "  <tbody>\n",
       "    <tr>\n",
       "      <th>0</th>\n",
       "      <td>SpiceJet</td>\n",
       "      <td>SG-8709</td>\n",
       "      <td>Delhi</td>\n",
       "      <td>Evening</td>\n",
       "      <td>zero</td>\n",
       "      <td>Night</td>\n",
       "      <td>Mumbai</td>\n",
       "      <td>Economy</td>\n",
       "      <td>2.17</td>\n",
       "      <td>1</td>\n",
       "      <td>5953</td>\n",
       "      <td>Delhi:Mumbai</td>\n",
       "    </tr>\n",
       "    <tr>\n",
       "      <th>1</th>\n",
       "      <td>SpiceJet</td>\n",
       "      <td>SG-8157</td>\n",
       "      <td>Delhi</td>\n",
       "      <td>Early_Morning</td>\n",
       "      <td>zero</td>\n",
       "      <td>Morning</td>\n",
       "      <td>Mumbai</td>\n",
       "      <td>Economy</td>\n",
       "      <td>2.33</td>\n",
       "      <td>1</td>\n",
       "      <td>5953</td>\n",
       "      <td>Delhi:Mumbai</td>\n",
       "    </tr>\n",
       "    <tr>\n",
       "      <th>2</th>\n",
       "      <td>AirAsia</td>\n",
       "      <td>I5-764</td>\n",
       "      <td>Delhi</td>\n",
       "      <td>Early_Morning</td>\n",
       "      <td>zero</td>\n",
       "      <td>Early_Morning</td>\n",
       "      <td>Mumbai</td>\n",
       "      <td>Economy</td>\n",
       "      <td>2.17</td>\n",
       "      <td>1</td>\n",
       "      <td>5956</td>\n",
       "      <td>Delhi:Mumbai</td>\n",
       "    </tr>\n",
       "    <tr>\n",
       "      <th>3</th>\n",
       "      <td>Vistara</td>\n",
       "      <td>UK-995</td>\n",
       "      <td>Delhi</td>\n",
       "      <td>Morning</td>\n",
       "      <td>zero</td>\n",
       "      <td>Afternoon</td>\n",
       "      <td>Mumbai</td>\n",
       "      <td>Economy</td>\n",
       "      <td>2.25</td>\n",
       "      <td>1</td>\n",
       "      <td>5955</td>\n",
       "      <td>Delhi:Mumbai</td>\n",
       "    </tr>\n",
       "    <tr>\n",
       "      <th>4</th>\n",
       "      <td>Vistara</td>\n",
       "      <td>UK-963</td>\n",
       "      <td>Delhi</td>\n",
       "      <td>Morning</td>\n",
       "      <td>zero</td>\n",
       "      <td>Morning</td>\n",
       "      <td>Mumbai</td>\n",
       "      <td>Economy</td>\n",
       "      <td>2.33</td>\n",
       "      <td>1</td>\n",
       "      <td>5955</td>\n",
       "      <td>Delhi:Mumbai</td>\n",
       "    </tr>\n",
       "    <tr>\n",
       "      <th>...</th>\n",
       "      <td>...</td>\n",
       "      <td>...</td>\n",
       "      <td>...</td>\n",
       "      <td>...</td>\n",
       "      <td>...</td>\n",
       "      <td>...</td>\n",
       "      <td>...</td>\n",
       "      <td>...</td>\n",
       "      <td>...</td>\n",
       "      <td>...</td>\n",
       "      <td>...</td>\n",
       "      <td>...</td>\n",
       "    </tr>\n",
       "    <tr>\n",
       "      <th>300148</th>\n",
       "      <td>Vistara</td>\n",
       "      <td>UK-822</td>\n",
       "      <td>Chennai</td>\n",
       "      <td>Morning</td>\n",
       "      <td>one</td>\n",
       "      <td>Evening</td>\n",
       "      <td>Hyderabad</td>\n",
       "      <td>Business</td>\n",
       "      <td>10.08</td>\n",
       "      <td>49</td>\n",
       "      <td>69265</td>\n",
       "      <td>Chennai:Hyderabad</td>\n",
       "    </tr>\n",
       "    <tr>\n",
       "      <th>300149</th>\n",
       "      <td>Vistara</td>\n",
       "      <td>UK-826</td>\n",
       "      <td>Chennai</td>\n",
       "      <td>Afternoon</td>\n",
       "      <td>one</td>\n",
       "      <td>Night</td>\n",
       "      <td>Hyderabad</td>\n",
       "      <td>Business</td>\n",
       "      <td>10.42</td>\n",
       "      <td>49</td>\n",
       "      <td>77105</td>\n",
       "      <td>Chennai:Hyderabad</td>\n",
       "    </tr>\n",
       "    <tr>\n",
       "      <th>300150</th>\n",
       "      <td>Vistara</td>\n",
       "      <td>UK-832</td>\n",
       "      <td>Chennai</td>\n",
       "      <td>Early_Morning</td>\n",
       "      <td>one</td>\n",
       "      <td>Night</td>\n",
       "      <td>Hyderabad</td>\n",
       "      <td>Business</td>\n",
       "      <td>13.83</td>\n",
       "      <td>49</td>\n",
       "      <td>79099</td>\n",
       "      <td>Chennai:Hyderabad</td>\n",
       "    </tr>\n",
       "    <tr>\n",
       "      <th>300151</th>\n",
       "      <td>Vistara</td>\n",
       "      <td>UK-828</td>\n",
       "      <td>Chennai</td>\n",
       "      <td>Early_Morning</td>\n",
       "      <td>one</td>\n",
       "      <td>Evening</td>\n",
       "      <td>Hyderabad</td>\n",
       "      <td>Business</td>\n",
       "      <td>10.00</td>\n",
       "      <td>49</td>\n",
       "      <td>81585</td>\n",
       "      <td>Chennai:Hyderabad</td>\n",
       "    </tr>\n",
       "    <tr>\n",
       "      <th>300152</th>\n",
       "      <td>Vistara</td>\n",
       "      <td>UK-822</td>\n",
       "      <td>Chennai</td>\n",
       "      <td>Morning</td>\n",
       "      <td>one</td>\n",
       "      <td>Evening</td>\n",
       "      <td>Hyderabad</td>\n",
       "      <td>Business</td>\n",
       "      <td>10.08</td>\n",
       "      <td>49</td>\n",
       "      <td>81585</td>\n",
       "      <td>Chennai:Hyderabad</td>\n",
       "    </tr>\n",
       "  </tbody>\n",
       "</table>\n",
       "<p>300153 rows × 12 columns</p>\n",
       "</div>"
      ],
      "text/plain": [
       "         airline   flight source_city departure_time stops   arrival_time  \\\n",
       "0       SpiceJet  SG-8709       Delhi        Evening  zero          Night   \n",
       "1       SpiceJet  SG-8157       Delhi  Early_Morning  zero        Morning   \n",
       "2        AirAsia   I5-764       Delhi  Early_Morning  zero  Early_Morning   \n",
       "3        Vistara   UK-995       Delhi        Morning  zero      Afternoon   \n",
       "4        Vistara   UK-963       Delhi        Morning  zero        Morning   \n",
       "...          ...      ...         ...            ...   ...            ...   \n",
       "300148   Vistara   UK-822     Chennai        Morning   one        Evening   \n",
       "300149   Vistara   UK-826     Chennai      Afternoon   one          Night   \n",
       "300150   Vistara   UK-832     Chennai  Early_Morning   one          Night   \n",
       "300151   Vistara   UK-828     Chennai  Early_Morning   one        Evening   \n",
       "300152   Vistara   UK-822     Chennai        Morning   one        Evening   \n",
       "\n",
       "       destination_city     class  duration  days_left  price  \\\n",
       "0                Mumbai   Economy      2.17          1   5953   \n",
       "1                Mumbai   Economy      2.33          1   5953   \n",
       "2                Mumbai   Economy      2.17          1   5956   \n",
       "3                Mumbai   Economy      2.25          1   5955   \n",
       "4                Mumbai   Economy      2.33          1   5955   \n",
       "...                 ...       ...       ...        ...    ...   \n",
       "300148        Hyderabad  Business     10.08         49  69265   \n",
       "300149        Hyderabad  Business     10.42         49  77105   \n",
       "300150        Hyderabad  Business     13.83         49  79099   \n",
       "300151        Hyderabad  Business     10.00         49  81585   \n",
       "300152        Hyderabad  Business     10.08         49  81585   \n",
       "\n",
       "                  journey  \n",
       "0            Delhi:Mumbai  \n",
       "1            Delhi:Mumbai  \n",
       "2            Delhi:Mumbai  \n",
       "3            Delhi:Mumbai  \n",
       "4            Delhi:Mumbai  \n",
       "...                   ...  \n",
       "300148  Chennai:Hyderabad  \n",
       "300149  Chennai:Hyderabad  \n",
       "300150  Chennai:Hyderabad  \n",
       "300151  Chennai:Hyderabad  \n",
       "300152  Chennai:Hyderabad  \n",
       "\n",
       "[300153 rows x 12 columns]"
      ]
     },
     "execution_count": 15,
     "metadata": {},
     "output_type": "execute_result"
    }
   ],
   "source": [
    "df1"
   ]
  },
  {
   "cell_type": "markdown",
   "id": "60cd2d76",
   "metadata": {},
   "source": [
    "# Data Visualization"
   ]
  },
  {
   "cell_type": "code",
   "execution_count": 9,
   "id": "273309c2",
   "metadata": {},
   "outputs": [
    {
     "data": {
      "text/plain": [
       "(array([  9011.,      0.,  16098.,      0., 127859.,      0.,  23173.,\n",
       "             0.,  43120.,  80892.]),\n",
       " array([0. , 0.5, 1. , 1.5, 2. , 2.5, 3. , 3.5, 4. , 4.5, 5. ]),\n",
       " <BarContainer object of 10 artists>)"
      ]
     },
     "execution_count": 9,
     "metadata": {},
     "output_type": "execute_result"
    },
    {
     "data": {
      "image/png": "[encoded data removed]",
      "text/plain": [
       "<Figure size 640x480 with 1 Axes>"
      ]
     },
     "metadata": {},
     "output_type": "display_data"
    }
   ],
   "source": [
    "#now as we can see all the category columns are not consist of any duplicate values so we can analyse the data\n",
    "\n",
    "df1.airline.value_counts()\n",
    "plt.hist(df1.airline)\n",
    "\n",
    "#vistara has more flight counts followed by  Air_India & spiceject has less flight counts"
   ]
  },
  {
   "cell_type": "code",
   "execution_count": 10,
   "id": "3583b0cf",
   "metadata": {},
   "outputs": [],
   "source": [
    "#\n",
    "\n",
    "#sns.catplot(data=df1, x=\"airline\", y=\"source_city\", hue=\"class\", kind=\"bar\")\n"
   ]
  },
  {
   "cell_type": "code",
   "execution_count": 66,
   "id": "b1feaeb2",
   "metadata": {},
   "outputs": [
    {
     "data": {
      "text/plain": [
       "<seaborn.axisgrid.FacetGrid at 0x2048b160790>"
      ]
     },
     "execution_count": 66,
     "metadata": {},
     "output_type": "execute_result"
    },
    {
     "data": {
      "image/png": "[encoded data removed]",
      "text/plain": [
       "<Figure size 613.875x500 with 1 Axes>"
      ]
     },
     "metadata": {},
     "output_type": "display_data"
    }
   ],
   "source": [
    "#Flight vs Price\n",
    "sns.catplot(data=df1, x=\"airline\", y=\"price\", hue=\"class\", kind=\"bar\")\n",
    "\n",
    "#as we can see vistara has higher price in both business & economi class as compared to others"
   ]
  },
  {
   "cell_type": "code",
   "execution_count": 11,
   "id": "4cbc27c4",
   "metadata": {},
   "outputs": [
    {
     "data": {
      "text/plain": [
       "<seaborn.axisgrid.FacetGrid at 0x1f7c1786190>"
      ]
     },
     "execution_count": 11,
     "metadata": {},
     "output_type": "execute_result"
    },
    {
     "data": {
      "image/png": "[encoded data removed]",
      "text/plain": [
       "<Figure size 613.875x500 with 1 Axes>"
      ]
     },
     "metadata": {},
     "output_type": "display_data"
    }
   ],
   "source": [
    "#Departure time vs Price\n",
    "\n",
    "sns.catplot(data=df1, x=\"departure_time\", y=\"price\", hue=\"class\", kind=\"bar\")\n",
    "\n",
    "#flight price is comparitively same across all departure time except for late night"
   ]
  },
  {
   "cell_type": "code",
   "execution_count": 72,
   "id": "36b5b09e",
   "metadata": {},
   "outputs": [
    {
     "data": {
      "text/plain": [
       "<AxesSubplot: xlabel='airline', ylabel='Count'>"
      ]
     },
     "execution_count": 72,
     "metadata": {},
     "output_type": "execute_result"
    },
    {
     "data": {
      "image/png": "[encoded data removed]",
      "text/plain": [
       "<Figure size 640x480 with 1 Axes>"
      ]
     },
     "metadata": {},
     "output_type": "display_data"
    }
   ],
   "source": [
    "# flight count of airline for each city\n",
    "sns.histplot(binwidth=0.5, x=\"airline\", hue=\"source_city\", data=df1, stat=\"count\", multiple=\"stack\")\n",
    "\n",
    "#as we can see vistara has more flight count across all cities"
   ]
  },
  {
   "cell_type": "code",
   "execution_count": 20,
   "id": "117a961f",
   "metadata": {},
   "outputs": [
    {
     "data": {
      "text/plain": [
       "<seaborn.axisgrid.FacetGrid at 0x1f7d1b70fa0>"
      ]
     },
     "execution_count": 20,
     "metadata": {},
     "output_type": "execute_result"
    },
    {
     "data": {
      "image/png": "[encoded data removed]",
      "text/plain": [
       "<Figure size 613.875x500 with 1 Axes>"
      ]
     },
     "metadata": {},
     "output_type": "display_data"
    }
   ],
   "source": [
    "#Journey vs Price\n",
    "sns.catplot(data=df1, x=\"journey\", y=\"price\", hue=\"class\", kind=\"bar\",)"
   ]
  },
  {
   "cell_type": "code",
   "execution_count": 23,
   "id": "804f258a",
   "metadata": {},
   "outputs": [
    {
     "data": {
      "text/plain": [
       "<seaborn.axisgrid.FacetGrid at 0x1f7d2997d30>"
      ]
     },
     "execution_count": 23,
     "metadata": {},
     "output_type": "execute_result"
    },
    {
     "data": {
      "image/png": "[encoded data removed]",
      "text/plain": [
       "<Figure size 500x500 with 1 Axes>"
      ]
     },
     "metadata": {},
     "output_type": "display_data"
    }
   ],
   "source": [
    "#class vs Price\n",
    "sns.catplot(data=df1, x=\"class\", y=\"price\", kind=\"bar\")\n",
    "\n",
    "#business class price is 4 times highr than economy class"
   ]
  },
  {
   "cell_type": "markdown",
   "id": "dc3b31cc",
   "metadata": {},
   "source": [
    "# Q&A"
   ]
  },
  {
   "cell_type": "code",
   "execution_count": 47,
   "id": "b3eef274",
   "metadata": {},
   "outputs": [
    {
     "data": {
      "text/plain": [
       "airline    class   \n",
       "Vistara    Business    123071\n",
       "Air_India  Business     90970\n",
       "           Economy      42349\n",
       "Vistara    Economy      37646\n",
       "SpiceJet   Economy      34158\n",
       "GO_FIRST   Economy      32803\n",
       "Indigo     Economy      31952\n",
       "AirAsia    Economy      31917\n",
       "Name: price, dtype: int64"
      ]
     },
     "execution_count": 47,
     "metadata": {},
     "output_type": "execute_result"
    }
   ],
   "source": [
    "#Which is the most expensive flight in both class?\n",
    "\n",
    "\n",
    "\n",
    "df1.groupby(['airline','class'])['price'].max().sort_values(ascending=False)\n",
    "\n",
    "#df.groupby(['ID'])['percentage'].max()"
   ]
  },
  {
   "cell_type": "code",
   "execution_count": 41,
   "id": "873b437c",
   "metadata": {},
   "outputs": [
    {
     "data": {
      "text/plain": [
       "class     journey            \n",
       "Business  Kolkata:Delhi          123071\n",
       "          Delhi:Kolkata          117307\n",
       "          Hyderabad:Mumbai       115211\n",
       "          Kolkata:Hyderabad      114705\n",
       "          Chennai:Mumbai         114704\n",
       "          Mumbai:Bangalore       114523\n",
       "          Delhi:Hyderabad        114507\n",
       "          Mumbai:Chennai         111964\n",
       "          Bangalore:Delhi        111883\n",
       "          Mumbai:Delhi           111437\n",
       "          Kolkata:Mumbai         110936\n",
       "          Chennai:Bangalore      107597\n",
       "          Kolkata:Bangalore      105638\n",
       "          Bangalore:Kolkata      105168\n",
       "          Chennai:Kolkata        104624\n",
       "          Delhi:Chennai          104466\n",
       "          Bangalore:Mumbai       103819\n",
       "          Chennai:Delhi          103683\n",
       "          Mumbai:Kolkata         100909\n",
       "          Mumbai:Hyderabad        99677\n",
       "          Hyderabad:Bangalore     97767\n",
       "          Hyderabad:Kolkata       97381\n",
       "          Delhi:Mumbai            95657\n",
       "          Hyderabad:Chennai       95208\n",
       "          Kolkata:Chennai         95183\n",
       "          Chennai:Hyderabad       92752\n",
       "          Bangalore:Chennai       90720\n",
       "          Hyderabad:Delhi         86203\n",
       "          Delhi:Bangalore         85353\n",
       "          Bangalore:Hyderabad     83239\n",
       "Economy   Chennai:Kolkata         42349\n",
       "          Bangalore:Mumbai        40354\n",
       "          Chennai:Mumbai          37646\n",
       "          Chennai:Bangalore       36911\n",
       "          Delhi:Chennai           35145\n",
       "          Chennai:Delhi           34968\n",
       "          Kolkata:Delhi           34944\n",
       "          Mumbai:Bangalore        34188\n",
       "          Bangalore:Delhi         34158\n",
       "          Hyderabad:Kolkata       33853\n",
       "          Mumbai:Chennai          33401\n",
       "          Delhi:Kolkata           32999\n",
       "          Hyderabad:Mumbai        32803\n",
       "          Hyderabad:Bangalore     32751\n",
       "          Mumbai:Delhi            32119\n",
       "          Delhi:Bangalore         31917\n",
       "          Kolkata:Bangalore       31899\n",
       "          Kolkata:Chennai         31479\n",
       "          Delhi:Mumbai            31260\n",
       "          Kolkata:Mumbai          31112\n",
       "          Delhi:Hyderabad         30760\n",
       "          Hyderabad:Delhi         30211\n",
       "          Bangalore:Kolkata       29382\n",
       "          Hyderabad:Chennai       29128\n",
       "          Mumbai:Kolkata          28571\n",
       "          Bangalore:Chennai       28174\n",
       "          Bangalore:Hyderabad     27610\n",
       "          Chennai:Hyderabad       26148\n",
       "          Mumbai:Hyderabad        25683\n",
       "          Kolkata:Hyderabad       25494\n",
       "Name: price, dtype: int64"
      ]
     },
     "execution_count": 41,
     "metadata": {},
     "output_type": "execute_result"
    }
   ],
   "source": [
    "#Which are the most expensive flight in both class by destination journey?\n",
    "df1.groupby(['class','journey'])['price'].max().sort_values(ascending=False)\n"
   ]
  },
  {
   "cell_type": "code",
   "execution_count": 45,
   "id": "b56801b8",
   "metadata": {},
   "outputs": [
    {
     "data": {
      "text/plain": [
       "airline    class   \n",
       "AirAsia    Economy      1105\n",
       "GO_FIRST   Economy      1105\n",
       "Indigo     Economy      1105\n",
       "SpiceJet   Economy      1106\n",
       "Air_India  Economy      1526\n",
       "Vistara    Economy      1714\n",
       "Air_India  Business    12000\n",
       "Vistara    Business    17604\n",
       "Name: price, dtype: int64"
      ]
     },
     "execution_count": 45,
     "metadata": {},
     "output_type": "execute_result"
    }
   ],
   "source": [
    "#Which is the cheapest flight by class?\n",
    "df1.groupby(['airline','class'])['price'].min().sort_values(ascending=True)"
   ]
  },
  {
   "cell_type": "code",
   "execution_count": 49,
   "id": "3667ebce",
   "metadata": {},
   "outputs": [
    {
     "data": {
      "text/plain": [
       "airline    journey            \n",
       "Indigo     Chennai:Bangalore      0.83\n",
       "           Bangalore:Chennai      0.83\n",
       "AirAsia    Bangalore:Chennai      0.92\n",
       "           Chennai:Bangalore      0.92\n",
       "           Hyderabad:Bangalore    0.92\n",
       "Indigo     Chennai:Hyderabad      1.00\n",
       "GO_FIRST   Hyderabad:Bangalore    1.00\n",
       "           Chennai:Hyderabad      1.00\n",
       "           Bangalore:Hyderabad    1.00\n",
       "Vistara    Bangalore:Hyderabad    1.00\n",
       "Air_India  Chennai:Bangalore      1.00\n",
       "           Bangalore:Chennai      1.00\n",
       "Vistara    Hyderabad:Bangalore    1.00\n",
       "SpiceJet   Bangalore:Hyderabad    1.00\n",
       "AirAsia    Bangalore:Hyderabad    1.08\n",
       "Indigo     Hyderabad:Bangalore    1.08\n",
       "SpiceJet   Bangalore:Chennai      1.08\n",
       "Air_India  Hyderabad:Bangalore    1.08\n",
       "Indigo     Bangalore:Hyderabad    1.08\n",
       "AirAsia    Chennai:Hyderabad      1.17\n",
       "Indigo     Hyderabad:Chennai      1.17\n",
       "Air_India  Mumbai:Hyderabad       1.17\n",
       "GO_FIRST   Hyderabad:Chennai      1.17\n",
       "Air_India  Bangalore:Hyderabad    1.25\n",
       "SpiceJet   Chennai:Hyderabad      1.25\n",
       "Air_India  Hyderabad:Chennai      1.25\n",
       "AirAsia    Hyderabad:Chennai      1.25\n",
       "Air_India  Hyderabad:Mumbai       1.25\n",
       "SpiceJet   Hyderabad:Chennai      1.25\n",
       "Air_India  Chennai:Hyderabad      1.33\n",
       "SpiceJet   Chennai:Bangalore      1.33\n",
       "           Bangalore:Mumbai       1.33\n",
       "Indigo     Hyderabad:Mumbai       1.33\n",
       "           Mumbai:Hyderabad       1.33\n",
       "Vistara    Hyderabad:Mumbai       1.42\n",
       "           Mumbai:Hyderabad       1.50\n",
       "GO_FIRST   Mumbai:Bangalore       1.58\n",
       "           Bangalore:Mumbai       1.58\n",
       "Indigo     Bangalore:Mumbai       1.58\n",
       "Vistara    Bangalore:Mumbai       1.58\n",
       "Indigo     Mumbai:Bangalore       1.58\n",
       "Vistara    Mumbai:Bangalore       1.67\n",
       "AirAsia    Mumbai:Bangalore       1.67\n",
       "           Bangalore:Mumbai       1.67\n",
       "Air_India  Mumbai:Bangalore       1.67\n",
       "SpiceJet   Hyderabad:Kolkata      1.75\n",
       "Air_India  Chennai:Mumbai         1.75\n",
       "SpiceJet   Mumbai:Bangalore       1.75\n",
       "Indigo     Chennai:Mumbai         1.83\n",
       "GO_FIRST   Chennai:Mumbai         1.83\n",
       "Name: duration, dtype: float64"
      ]
     },
     "execution_count": 49,
     "metadata": {},
     "output_type": "execute_result"
    }
   ],
   "source": [
    "#which flight takes less time to reach by the journey\n",
    "df1.groupby(['airline','journey'])['duration'].min().sort_values(ascending=True).head(50)"
   ]
  },
  {
   "cell_type": "code",
   "execution_count": 50,
   "id": "3c15d1de",
   "metadata": {},
   "outputs": [
    {
     "data": {
      "text/html": [
       "<div>\n",
       "<style scoped>\n",
       "    .dataframe tbody tr th:only-of-type {\n",
       "        vertical-align: middle;\n",
       "    }\n",
       "\n",
       "    .dataframe tbody tr th {\n",
       "        vertical-align: top;\n",
       "    }\n",
       "\n",
       "    .dataframe thead th {\n",
       "        text-align: right;\n",
       "    }\n",
       "</style>\n",
       "<table border=\"1\" class=\"dataframe\">\n",
       "  <thead>\n",
       "    <tr style=\"text-align: right;\">\n",
       "      <th></th>\n",
       "      <th>airline</th>\n",
       "      <th>flight</th>\n",
       "      <th>source_city</th>\n",
       "      <th>departure_time</th>\n",
       "      <th>stops</th>\n",
       "      <th>arrival_time</th>\n",
       "      <th>destination_city</th>\n",
       "      <th>class</th>\n",
       "      <th>duration</th>\n",
       "      <th>days_left</th>\n",
       "      <th>price</th>\n",
       "      <th>journey</th>\n",
       "    </tr>\n",
       "  </thead>\n",
       "  <tbody>\n",
       "    <tr>\n",
       "      <th>0</th>\n",
       "      <td>SpiceJet</td>\n",
       "      <td>SG-8709</td>\n",
       "      <td>Delhi</td>\n",
       "      <td>Evening</td>\n",
       "      <td>zero</td>\n",
       "      <td>Night</td>\n",
       "      <td>Mumbai</td>\n",
       "      <td>Economy</td>\n",
       "      <td>2.17</td>\n",
       "      <td>1</td>\n",
       "      <td>5953</td>\n",
       "      <td>Delhi:Mumbai</td>\n",
       "    </tr>\n",
       "    <tr>\n",
       "      <th>1</th>\n",
       "      <td>SpiceJet</td>\n",
       "      <td>SG-8157</td>\n",
       "      <td>Delhi</td>\n",
       "      <td>Early_Morning</td>\n",
       "      <td>zero</td>\n",
       "      <td>Morning</td>\n",
       "      <td>Mumbai</td>\n",
       "      <td>Economy</td>\n",
       "      <td>2.33</td>\n",
       "      <td>1</td>\n",
       "      <td>5953</td>\n",
       "      <td>Delhi:Mumbai</td>\n",
       "    </tr>\n",
       "    <tr>\n",
       "      <th>2</th>\n",
       "      <td>AirAsia</td>\n",
       "      <td>I5-764</td>\n",
       "      <td>Delhi</td>\n",
       "      <td>Early_Morning</td>\n",
       "      <td>zero</td>\n",
       "      <td>Early_Morning</td>\n",
       "      <td>Mumbai</td>\n",
       "      <td>Economy</td>\n",
       "      <td>2.17</td>\n",
       "      <td>1</td>\n",
       "      <td>5956</td>\n",
       "      <td>Delhi:Mumbai</td>\n",
       "    </tr>\n",
       "    <tr>\n",
       "      <th>3</th>\n",
       "      <td>Vistara</td>\n",
       "      <td>UK-995</td>\n",
       "      <td>Delhi</td>\n",
       "      <td>Morning</td>\n",
       "      <td>zero</td>\n",
       "      <td>Afternoon</td>\n",
       "      <td>Mumbai</td>\n",
       "      <td>Economy</td>\n",
       "      <td>2.25</td>\n",
       "      <td>1</td>\n",
       "      <td>5955</td>\n",
       "      <td>Delhi:Mumbai</td>\n",
       "    </tr>\n",
       "    <tr>\n",
       "      <th>4</th>\n",
       "      <td>Vistara</td>\n",
       "      <td>UK-963</td>\n",
       "      <td>Delhi</td>\n",
       "      <td>Morning</td>\n",
       "      <td>zero</td>\n",
       "      <td>Morning</td>\n",
       "      <td>Mumbai</td>\n",
       "      <td>Economy</td>\n",
       "      <td>2.33</td>\n",
       "      <td>1</td>\n",
       "      <td>5955</td>\n",
       "      <td>Delhi:Mumbai</td>\n",
       "    </tr>\n",
       "    <tr>\n",
       "      <th>...</th>\n",
       "      <td>...</td>\n",
       "      <td>...</td>\n",
       "      <td>...</td>\n",
       "      <td>...</td>\n",
       "      <td>...</td>\n",
       "      <td>...</td>\n",
       "      <td>...</td>\n",
       "      <td>...</td>\n",
       "      <td>...</td>\n",
       "      <td>...</td>\n",
       "      <td>...</td>\n",
       "      <td>...</td>\n",
       "    </tr>\n",
       "    <tr>\n",
       "      <th>300148</th>\n",
       "      <td>Vistara</td>\n",
       "      <td>UK-822</td>\n",
       "      <td>Chennai</td>\n",
       "      <td>Morning</td>\n",
       "      <td>one</td>\n",
       "      <td>Evening</td>\n",
       "      <td>Hyderabad</td>\n",
       "      <td>Business</td>\n",
       "      <td>10.08</td>\n",
       "      <td>49</td>\n",
       "      <td>69265</td>\n",
       "      <td>Chennai:Hyderabad</td>\n",
       "    </tr>\n",
       "    <tr>\n",
       "      <th>300149</th>\n",
       "      <td>Vistara</td>\n",
       "      <td>UK-826</td>\n",
       "      <td>Chennai</td>\n",
       "      <td>Afternoon</td>\n",
       "      <td>one</td>\n",
       "      <td>Night</td>\n",
       "      <td>Hyderabad</td>\n",
       "      <td>Business</td>\n",
       "      <td>10.42</td>\n",
       "      <td>49</td>\n",
       "      <td>77105</td>\n",
       "      <td>Chennai:Hyderabad</td>\n",
       "    </tr>\n",
       "    <tr>\n",
       "      <th>300150</th>\n",
       "      <td>Vistara</td>\n",
       "      <td>UK-832</td>\n",
       "      <td>Chennai</td>\n",
       "      <td>Early_Morning</td>\n",
       "      <td>one</td>\n",
       "      <td>Night</td>\n",
       "      <td>Hyderabad</td>\n",
       "      <td>Business</td>\n",
       "      <td>13.83</td>\n",
       "      <td>49</td>\n",
       "      <td>79099</td>\n",
       "      <td>Chennai:Hyderabad</td>\n",
       "    </tr>\n",
       "    <tr>\n",
       "      <th>300151</th>\n",
       "      <td>Vistara</td>\n",
       "      <td>UK-828</td>\n",
       "      <td>Chennai</td>\n",
       "      <td>Early_Morning</td>\n",
       "      <td>one</td>\n",
       "      <td>Evening</td>\n",
       "      <td>Hyderabad</td>\n",
       "      <td>Business</td>\n",
       "      <td>10.00</td>\n",
       "      <td>49</td>\n",
       "      <td>81585</td>\n",
       "      <td>Chennai:Hyderabad</td>\n",
       "    </tr>\n",
       "    <tr>\n",
       "      <th>300152</th>\n",
       "      <td>Vistara</td>\n",
       "      <td>UK-822</td>\n",
       "      <td>Chennai</td>\n",
       "      <td>Morning</td>\n",
       "      <td>one</td>\n",
       "      <td>Evening</td>\n",
       "      <td>Hyderabad</td>\n",
       "      <td>Business</td>\n",
       "      <td>10.08</td>\n",
       "      <td>49</td>\n",
       "      <td>81585</td>\n",
       "      <td>Chennai:Hyderabad</td>\n",
       "    </tr>\n",
       "  </tbody>\n",
       "</table>\n",
       "<p>300153 rows × 12 columns</p>\n",
       "</div>"
      ],
      "text/plain": [
       "         airline   flight source_city departure_time stops   arrival_time  \\\n",
       "0       SpiceJet  SG-8709       Delhi        Evening  zero          Night   \n",
       "1       SpiceJet  SG-8157       Delhi  Early_Morning  zero        Morning   \n",
       "2        AirAsia   I5-764       Delhi  Early_Morning  zero  Early_Morning   \n",
       "3        Vistara   UK-995       Delhi        Morning  zero      Afternoon   \n",
       "4        Vistara   UK-963       Delhi        Morning  zero        Morning   \n",
       "...          ...      ...         ...            ...   ...            ...   \n",
       "300148   Vistara   UK-822     Chennai        Morning   one        Evening   \n",
       "300149   Vistara   UK-826     Chennai      Afternoon   one          Night   \n",
       "300150   Vistara   UK-832     Chennai  Early_Morning   one          Night   \n",
       "300151   Vistara   UK-828     Chennai  Early_Morning   one        Evening   \n",
       "300152   Vistara   UK-822     Chennai        Morning   one        Evening   \n",
       "\n",
       "       destination_city     class  duration  days_left  price  \\\n",
       "0                Mumbai   Economy      2.17          1   5953   \n",
       "1                Mumbai   Economy      2.33          1   5953   \n",
       "2                Mumbai   Economy      2.17          1   5956   \n",
       "3                Mumbai   Economy      2.25          1   5955   \n",
       "4                Mumbai   Economy      2.33          1   5955   \n",
       "...                 ...       ...       ...        ...    ...   \n",
       "300148        Hyderabad  Business     10.08         49  69265   \n",
       "300149        Hyderabad  Business     10.42         49  77105   \n",
       "300150        Hyderabad  Business     13.83         49  79099   \n",
       "300151        Hyderabad  Business     10.00         49  81585   \n",
       "300152        Hyderabad  Business     10.08         49  81585   \n",
       "\n",
       "                  journey  \n",
       "0            Delhi:Mumbai  \n",
       "1            Delhi:Mumbai  \n",
       "2            Delhi:Mumbai  \n",
       "3            Delhi:Mumbai  \n",
       "4            Delhi:Mumbai  \n",
       "...                   ...  \n",
       "300148  Chennai:Hyderabad  \n",
       "300149  Chennai:Hyderabad  \n",
       "300150  Chennai:Hyderabad  \n",
       "300151  Chennai:Hyderabad  \n",
       "300152  Chennai:Hyderabad  \n",
       "\n",
       "[300153 rows x 12 columns]"
      ]
     },
     "execution_count": 50,
     "metadata": {},
     "output_type": "execute_result"
    }
   ],
   "source": [
    "df1"
   ]
  },
  {
   "cell_type": "code",
   "execution_count": null,
   "id": "c616ba36",
   "metadata": {},
   "outputs": [],
   "source": []
  }
 ],
 "metadata": {
  "kernelspec": {
   "display_name": "Python 3 (ipykernel)",
   "language": "python",
   "name": "python3"
  },
  "language_info": {
   "codemirror_mode": {
    "name": "ipython",
    "version": 3
   },
   "file_extension": ".py",
   "mimetype": "text/x-python",
   "name": "python",
   "nbconvert_exporter": "python",
   "pygments_lexer": "ipython3",
   "version": "3.9.13"
  }
 },
 "nbformat": 4,
 "nbformat_minor": 5
}
